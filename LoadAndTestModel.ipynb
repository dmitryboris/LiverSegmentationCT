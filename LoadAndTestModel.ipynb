{
 "cells": [
  {
   "cell_type": "code",
   "execution_count": null,
   "id": "initial_id",
   "metadata": {
    "collapsed": true
   },
   "outputs": [],
   "source": "!pip install medpy"
  },
  {
   "metadata": {},
   "cell_type": "code",
   "outputs": [],
   "execution_count": null,
   "source": [
    "from google.colab import auth, drive\n",
    "from googleapiclient.discovery import build\n",
    "\n",
    "auth.authenticate_user()\n",
    "drive.mount('/content/drive')"
   ],
   "id": "ac4d772cece9cebd"
  },
  {
   "metadata": {},
   "cell_type": "code",
   "outputs": [],
   "execution_count": null,
   "source": [
    "from PIL import Image\n",
    "import os\n",
    "import pandas as pd\n",
    "import numpy as np\n",
    "from matplotlib import pyplot as plt, cm\n",
    "\n",
    "from medpy.metric import dc, jc\n",
    "from medpy.io import load, header\n",
    "\n",
    "from tqdm import notebook, trange\n",
    "\n",
    "SEED = 42"
   ],
   "id": "f2ae996446f6efbd"
  },
  {
   "metadata": {},
   "cell_type": "code",
   "outputs": [],
   "execution_count": null,
   "source": [
    "def path(fname, num):\n",
    "    # return f'drive/My Drive/CHAOS/CHAOS_Train_Sets/Train_Sets/CT/' + fname\n",
    "    return f'drive/My Drive/Anon_Liver/Anon_Liver/Abdomen - 3928/' + fname\n",
    "\n",
    "def get_data(num):\n",
    "    X_path = path('', num)\n",
    "    X_filenames = []\n",
    "\n",
    "    for directory in notebook.tqdm(os.listdir(X_path)[:-1], position=0):\n",
    "        for dirName, subdirList, fileList in os.walk(X_path+directory):\n",
    "            for filename in fileList:\n",
    "                if \".dcm\" in filename.lower():\n",
    "                    X_filenames.append(os.path.join(dirName, filename))\n",
    "\n",
    "    return sorted(X_filenames)"
   ],
   "id": "40e36bf4dbeff4f5"
  },
  {
   "metadata": {},
   "cell_type": "code",
   "outputs": [],
   "execution_count": null,
   "source": [
    "X_filenames1 = get_data(1)\n",
    "X_filenames = X_filenames1[:100]\n",
    "\n",
    "\n",
    "print(X_filenames)"
   ],
   "id": "a92c8359dd10ea37"
  },
  {
   "metadata": {},
   "cell_type": "code",
   "outputs": [],
   "execution_count": null,
   "source": [
    "def buffer_imgs(filenames, folder='buffer'):\n",
    "    files = []\n",
    "    if not os.path.exists(folder):\n",
    "        os.makedirs(folder)\n",
    "    for filename in notebook.tqdm(filenames, position=0):\n",
    "        img, header = load(filename)\n",
    "        pil = Image.fromarray(img.squeeze())\n",
    "        fname = folder + '/' + filename.replace('/', '-')\n",
    "        fname = fname + '.tiff'\n",
    "        pil.save(fname, 'TIFF', compression='none')\n",
    "        files.append(fname)\n",
    "    return pd.DataFrame(files)"
   ],
   "id": "cba99096b6e39593"
  },
  {
   "metadata": {},
   "cell_type": "code",
   "outputs": [],
   "execution_count": null,
   "source": "X = buffer_imgs(X_filenames)",
   "id": "bacd633265b913b"
  },
  {
   "metadata": {},
   "cell_type": "code",
   "outputs": [],
   "execution_count": null,
   "source": [
    "from tensorflow.keras.preprocessing.image import ImageDataGenerator\n",
    "from tensorflow.keras.models import load_model\n",
    "\n",
    "\n",
    "val_gen_params = {\n",
    "    'x_col': 0,\n",
    "    'target_size': (512, 512),\n",
    "    'color_mode': 'grayscale',\n",
    "    'batch_size': 1,\n",
    "    'class_mode': None,\n",
    "    'shuffle': False,\n",
    "    'seed': SEED,\n",
    "}\n",
    "\n",
    "idg_test_data = ImageDataGenerator(\n",
    "    samplewise_center=True,\n",
    "    samplewise_std_normalization=True\n",
    "                                  )\n",
    "idg_test_mask = ImageDataGenerator(rescale=1./255)\n",
    "\n",
    "model = load_model('unet_r(2).h5')\n"
   ],
   "id": "dccb4a23862cb499"
  },
  {
   "metadata": {},
   "cell_type": "code",
   "outputs": [],
   "execution_count": null,
   "source": [
    "def evaluate(x_names, y_names, set_name='evaluating', plot_pairs=0):\n",
    "    val_gen_params['batch_size'] = 1\n",
    "    print(set_name)\n",
    "    dices = []\n",
    "    jccrs = []\n",
    "    mdices = []\n",
    "    mjccrs = []\n",
    "    data_g = idg_test_data.flow_from_dataframe(x_names, **val_gen_params)\n",
    "    mask_g = idg_test_mask.flow_from_dataframe(y_names, **val_gen_params)\n",
    "    for i, image_mask in enumerate(zip(notebook.tqdm(data_g), mask_g)):\n",
    "        if i > x_names.shape[0] // val_gen_params['batch_size']:\n",
    "            break\n",
    "        image, mask = image_mask\n",
    "        if mask.max() == 0:\n",
    "            continue\n",
    "        p = model.predict(image).astype('uint8')\n",
    "        dice = dc(p, mask)\n",
    "        dices.append(dice)\n",
    "        try:\n",
    "            jccr = jc(p, mask)\n",
    "        except ZeroDivisionError as e:\n",
    "            jccr = 1\n",
    "        jccrs.append(jccr)\n",
    "\n",
    "        if plot_pairs:\n",
    "            plot_pairs -= 1\n",
    "            fig, (ax1, ax2) = plt.subplots(1,2, figsize=(5,10))\n",
    "            ax1.imshow(image.squeeze())\n",
    "            ax1.imshow(mask.squeeze(), alpha=0.5, cmap='autumn')\n",
    "            ax1.set_title('ground')\n",
    "            ax2.imshow(image.squeeze())\n",
    "            ax2.imshow(p.squeeze(), alpha=0.5, cmap='autumn')\n",
    "            ax2.set_title('predicted, dc={0:.2f}'.format(dice))\n",
    "            plt.show()\n",
    "\n",
    "    print('dice:', np.mean(dices))\n",
    "    print('jccr:', np.mean(jccrs))\n",
    "    print('-------------')\n",
    "    return jccr"
   ],
   "id": "7e7ea6cd35d3478c"
  }
 ],
 "metadata": {
  "kernelspec": {
   "display_name": "Python 3",
   "language": "python",
   "name": "python3"
  },
  "language_info": {
   "codemirror_mode": {
    "name": "ipython",
    "version": 2
   },
   "file_extension": ".py",
   "mimetype": "text/x-python",
   "name": "python",
   "nbconvert_exporter": "python",
   "pygments_lexer": "ipython2",
   "version": "2.7.6"
  }
 },
 "nbformat": 4,
 "nbformat_minor": 5
}
